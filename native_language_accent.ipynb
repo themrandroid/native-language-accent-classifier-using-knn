{
 "cells": [
  {
   "cell_type": "markdown",
   "id": "cba07faa",
   "metadata": {},
   "source": [
    "# Native Language Accent [Hausa, Igbo, Yoruba] using KNN"
   ]
  },
  {
   "cell_type": "markdown",
   "id": "563132a6",
   "metadata": {},
   "source": [
    "## Module Imports\n",
    "\n",
    "All necessary python libraries for dta collection, cleaning, analysis, modelling, and evaluation are imported"
   ]
  },
  {
   "cell_type": "code",
   "execution_count": 1,
   "id": "1a3c8a0d",
   "metadata": {},
   "outputs": [],
   "source": [
    "# General Utilities \n",
    "import pandas as pd\n",
    "import numpy as np\n",
    "\n",
    "# Visualization\n",
    "import matplotlib.pyplot as plt\n",
    "from matplotlib.pyplot import rcParams\n",
    "rcParams['figure.figsize'] = 10,6\n",
    "import seaborn as sns\n",
    "\n",
    "# Audio Preprocessng\n",
    "from pydub import AudioSegment, effects\n",
    "from pydub.silence import split_on_silence\n",
    "import librosa\n",
    "\n",
    "# Data Preprocessing and evaluation\n",
    "from sklearn.model_selection import train_test_split, cross_val_score\n",
    "from sklearn.preprocessing import StandardScaler\n",
    "from sklearn.utils import resample\n",
    "from sklearn.metrics import accuracy_score, f1_score, roc_auc_score,  confusion_matrix, classification_report, ConfusionMatrixDisplay\n",
    "\n",
    "# machine Learning Models\n",
    "from sklearn.neighbors import KNeighborsClassifier\n",
    "\n",
    "# Audio Scraping\n",
    "import yt_dlp\n",
    "import os\n",
    "\n",
    "# Model Deploying\n",
    "import streamlit as st\n",
    "import joblib"
   ]
  },
  {
   "cell_type": "markdown",
   "id": "df0db81b",
   "metadata": {},
   "source": [
    "## DATA COLLECTION"
   ]
  },
  {
   "cell_type": "code",
   "execution_count": 2,
   "metadata": {},
   "outputs": [],
   "source": [
    "def download_audio(accent, urls, output_dir='data'):\n",
    "    accent_dir = os.path.join(output_dir, accent)\n",
    "    os.makedirs(accent_dir, exist_ok=True)\n",
    "\n",
    "    for i, url in enumerate(urls, 1):\n",
    "        ydl_opts = {\n",
    "            'format': 'bestaudio/best',\n",
    "            'outtmpl': f'{accent_dir}/{accent}_{i:02d}.%(ext)s',\n",
    "            'postprocessors': [{\n",
    "                'key': 'FFmpegExtractAudio',\n",
    "                'preferredcodec': 'mp3',\n",
    "                'preferredquality': '192',\n",
    "            }],\n",
    "            'quiet': False\n",
    "        }\n",
    "\n",
    "        try:\n",
    "            with yt_dlp.YoutubeDL(ydl_opts) as ydl:\n",
    "                ydl.download([url])\n",
    "        except Exception as e:\n",
    "            print(f\"Failed to download {url}: {e}\")\n"
   ]
  },
  {
   "cell_type": "code",
   "execution_count": 3,
   "id": "aefbca4d",
   "metadata": {},
   "outputs": [],
   "source": [
    "yoruba_urls = [\n",
    "    'https://youtube.com/shorts/6yzqZBTZBqk?si=w8z3fJT0IEhXzLgv',\n",
    "    'https://youtube.com/shorts/5Rl5ztTzP2Q?si=TiRvXpG_oKcBCRDJ',\n",
    "    'https://youtube.com/shorts/uU_cyJWSioE?si=CUSZYG5GZt0w0wgI',\n",
    "    'https://youtube.com/shorts/fFjUo03MxY8?si=0kJojIXytGxmSsGd',\n",
    "    'https://youtube.com/shorts/BX4ci6uNzJ4?si=qkRMu6bMVWYJT5Wa',\n",
    "    'https://youtube.com/shorts/5WiZ7pFvFxU?si=qoR2le2Y6qwllEaf',\n",
    "    'https://youtube.com/shorts/SiklCRczQAE?si=oM6Q3ycPGL1LuwFC',\n",
    "    'https://youtube.com/shorts/AGVPFUus-9A?si=xTV5U1F67hWqrPb6',\n",
    "    'https://youtube.com/shorts/WInUCWS6jHk?si=ceR23Daym7S2197i',\n",
    "    'https://youtube.com/shorts/YaLI4cr9JvA?si=XwtVxfSKrYJp-Viu'\n",
    "]\n",
    "\n",
    "\n",
    "igbo_urls = [\n",
    "    'https://youtube.com/shorts/dyxGOUUu0Z8?si=qPnMKYCCjlkYMs5Y',\n",
    "    'https://youtube.com/shorts/Bkjonk3ZEvM?si=Og0WlXhbZK0Abu0t',\n",
    "    'https://youtube.com/shorts/RLONT5QST3E?si=99ZNkkejM5ldtbk9',\n",
    "    'https://youtube.com/shorts/KbKmvFCfTHA?si=LTQXVgcg_M_IQSZs',\n",
    "    'https://youtube.com/shorts/X6jPr2yZH4Q?si=CS2Wnk90atdTZ9wb',\n",
    "    'https://youtube.com/shorts/N3pojzaIoDc?si=NNGWUiB1s20AL0Dw',\n",
    "    'https://youtube.com/shorts/TZvZFuqsUTY?si=62t9tKnq81NENtoR',\n",
    "    'https://youtube.com/shorts/ftsWToc0R2I?si=KI9lgINnoSyyBzoL',\n",
    "    'https://youtube.com/shorts/WzCc2pT-39A?si=XgFCZaOYrOZ_RTyW',\n",
    "    'https://youtube.com/shorts/4XukGIjntmA?si=2jWY21dKT82Z7CFX'\n",
    "]\n",
    "\n",
    "hausa_urls = [\n",
    "     'https://youtube.com/shorts/Eq3QGlzFOYs?si=k24KE8x8kjHuuegS',\n",
    "    'https://youtube.com/shorts/J5d3QdchiAQ?si=ZDNL_G7JrSgY-0gw',\n",
    "    'https://youtube.com/shorts/JWzGK9EquZU?si=ArbIFLInoTGHhQ8P',\n",
    "    'https://youtube.com/shorts/S9HXn1IpTDk?si=5cESbPGIqkgq6x1L',\n",
    "    'https://youtube.com/shorts/pI6BR9GTBhI?si=5z1d48MmJg6c7yKZ',\n",
    "    'https://youtube.com/shorts/y2DESH8XX4E?si=AwwJ2ySB_w6RHsYy',\n",
    "    'https://youtube.com/shorts/xnwSjE2LbjQ?si=ASA5fUIRyDMWQyBv',\n",
    "    'https://youtube.com/shorts/Ykei-PEHx5Q?si=kTWFDGs6g0pqUSrc',\n",
    "    'https://youtube.com/shorts/4kC38W7KLd8?si=l2gOCq6HABJBslYM',\n",
    "    'https://youtube.com/shorts/VZ_FQxNe9qE?si=4I2ZME1E3s1oSA1o'\n",
    "]\n"
   ]
  },
  {
   "cell_type": "code",
   "execution_count": 4,
   "id": "a3528863",
   "metadata": {},
   "outputs": [
    {
     "name": "stdout",
     "output_type": "stream",
     "text": [
      "Folder already exists. Skipping function.\n"
     ]
    }
   ],
   "source": [
    "folder_path = \"data\"\n",
    "\n",
    "if os.path.exists(folder_path):\n",
    "    print(\"Folder already exists. Skipping function.\")\n",
    "else:\n",
    "    download_audio('yoruba', yoruba_urls)\n",
    "    download_audio('igbo', igbo_urls)\n",
    "    download_audio('hausa', hausa_urls)"
   ]
  },
  {
   "cell_type": "code",
   "execution_count": 5,
   "id": "bab5daaf",
   "metadata": {},
   "outputs": [],
   "source": [
    "def preprocess_audio(input_folder='data', output_folder='processed_data', target_duration_ms=20000):\n",
    "    os.makedirs(output_folder, exist_ok=True)\n",
    "\n",
    "    for accent in os.listdir(input_folder):\n",
    "        accent_path = os.path.join(input_folder, accent)\n",
    "        output_accent_path = os.path.join(output_folder, accent)\n",
    "        os.makedirs(output_accent_path, exist_ok=True)\n",
    "\n",
    "        for filename in os.listdir(accent_path):\n",
    "            if filename.endswith(\".mp3\") or filename.endswith(\".wav\"):\n",
    "                input_path = os.path.join(accent_path, filename)\n",
    "\n",
    "                # Load and convert to WAV\n",
    "                audio = AudioSegment.from_file(input_path)\n",
    "                audio = audio.set_frame_rate(16000).set_channels(1)  # Mono, 16kHz\n",
    "\n",
    "                # Normalize volume\n",
    "                normalized_audio = effects.normalize(audio)\n",
    "\n",
    "                # Trim silence\n",
    "                trimmed_audio = split_on_silence(\n",
    "                    normalized_audio,\n",
    "                    min_silence_len=500,\n",
    "                    silence_thresh=normalized_audio.dBFS - 16,\n",
    "                    keep_silence=300,\n",
    "                )\n",
    "                if trimmed_audio:\n",
    "                    trimmed_audio = sum(trimmed_audio)\n",
    "                else:\n",
    "                    trimmed_audio = normalized_audio  # fallback in case silence trimming returns nothing\n",
    "\n",
    "\n",
    "                # Clip to fixed duration\n",
    "                final_audio = trimmed_audio[:target_duration_ms]\n",
    "                if len(final_audio) < target_duration_ms:\n",
    "                    silence_padding = AudioSegment.silent(duration=target_duration_ms - len(final_audio))\n",
    "                    final_audio += silence_padding\n",
    "\n",
    "                # Save as WAV\n",
    "                output_path = os.path.join(output_accent_path, filename.rsplit('.', 1)[0] + '.wav')\n",
    "                final_audio.export(output_path, format='wav')\n",
    "\n",
    "                print(f\"Processed: {output_path}\")"
   ]
  },
  {
   "cell_type": "code",
   "execution_count": 6,
   "id": "5d835577",
   "metadata": {},
   "outputs": [
    {
     "name": "stdout",
     "output_type": "stream",
     "text": [
      "Folder already exists. Skipping function.\n"
     ]
    }
   ],
   "source": [
    "folder_path = \"processed_data\"\n",
    "\n",
    "if os.path.exists(folder_path):\n",
    "    print(\"Folder already exists. Skipping function.\")\n",
    "else:\n",
    "    preprocess_audio(input_folder='data', output_folder='processed_data', target_duration_ms=20000)  # 20 seconds"
   ]
  },
  {
   "cell_type": "code",
   "execution_count": 7,
   "id": "13f1e390",
   "metadata": {},
   "outputs": [],
   "source": [
    "def extract_features(data_dir='processed_data'):\n",
    "    data = []\n",
    "\n",
    "    for label in os.listdir(data_dir):  # Hausa, Igbo, Yoruba\n",
    "        label_path = os.path.join(data_dir, label)\n",
    "\n",
    "        for file in os.listdir(label_path):\n",
    "            if file.endswith('.wav'):\n",
    "                file_path = os.path.join(label_path, file)\n",
    "\n",
    "                try:\n",
    "                    y, sr = librosa.load(file_path, sr=16000)\n",
    "\n",
    "                    # --- MFCCs (Take mean of each of the 13 coefficients) ---\n",
    "                    mfccs = librosa.feature.mfcc(y=y, sr=sr, n_mfcc=13)\n",
    "                    mfccs_mean = mfccs.mean(axis=1)\n",
    "\n",
    "                    # --- Pitch (using librosa.yin for fundamental frequency estimation) ---\n",
    "                    f0 = librosa.yin(y, fmin=50, fmax=500)\n",
    "                    pitch_mean = np.mean(f0)\n",
    "                    pitch_std = np.std(f0)\n",
    "\n",
    "                    # --- Zero-Crossing Rate ---\n",
    "                    zcr = librosa.feature.zero_crossing_rate(y)\n",
    "                    zcr_mean = np.mean(zcr)\n",
    "\n",
    "                    # --- Spectral Contrast ---\n",
    "                    contrast = librosa.feature.spectral_contrast(y=y, sr=sr)\n",
    "                    contrast_mean = contrast.mean(axis=1)\n",
    "\n",
    "                    # --- Combine all features ---\n",
    "                    feature_row = list(mfccs_mean) + [pitch_mean, pitch_std, zcr_mean] + list(contrast_mean) + [label]\n",
    "                    data.append(feature_row)\n",
    "\n",
    "                except Exception as e:\n",
    "                    print(f\"Error processing {file_path}: {e}\")\n",
    "\n",
    "    # --- Define column names ---\n",
    "    columns = [f\"mfcc_{i+1}\" for i in range(13)] + [\"pitch_mean\", \"pitch_std\", \"zcr\"] + [f\"contrast_{i+1}\" for i in range(7)] + [\"native_language\"]\n",
    "\n",
    "    df = pd.DataFrame(data, columns=columns)\n",
    "    return df"
   ]
  },
  {
   "cell_type": "code",
   "execution_count": 8,
   "id": "324c9ef5",
   "metadata": {},
   "outputs": [
    {
     "name": "stdout",
     "output_type": "stream",
     "text": [
      "File already exists.\n",
      "      mfcc_1     mfcc_2     mfcc_3     mfcc_4     mfcc_5     mfcc_6  \\\n",
      "0 -222.61502  96.293100  -0.737145  -0.156933  -6.417421 -22.298155   \n",
      "1 -196.85628  86.249405  19.348495  12.284666   1.776074  -7.566617   \n",
      "2 -199.04907  30.968750   5.315518  27.871393 -22.036314 -13.232800   \n",
      "3 -164.35736  86.307480  26.284286  -7.689272   3.319334  -3.707243   \n",
      "4 -189.83142  78.165590  11.840050  20.451948   0.575667  -7.015273   \n",
      "\n",
      "      mfcc_7     mfcc_8     mfcc_9    mfcc_10  ...   pitch_std       zcr  \\\n",
      "0 -16.730837  -9.945559 -10.579000 -10.798513  ...  100.511801  0.109426   \n",
      "1  -8.314264  -5.185828  -4.914920  -4.193184  ...   75.885758  0.167622   \n",
      "2   0.297162 -16.054720  -0.220790  -7.156560  ...  137.088454  0.216451   \n",
      "3 -14.927552 -12.195855 -13.288478  -1.698122  ...   69.416309  0.151082   \n",
      "4  -8.218061  -4.244741  -7.692166   3.096794  ...   85.559143  0.151551   \n",
      "\n",
      "   contrast_1  contrast_2  contrast_3  contrast_4  contrast_5  contrast_6  \\\n",
      "0   21.967061   17.357748   19.408495   18.610782   19.821279   19.410705   \n",
      "1   20.608784   15.365642   18.140787   16.106888   16.295714   14.876357   \n",
      "2   16.565926   19.799474   20.238891   18.862532   18.943876   20.549131   \n",
      "3   20.309679   17.698733   19.342258   17.161173   19.101843   18.075085   \n",
      "4   20.450599   17.636064   18.558274   16.456576   16.348364   17.080491   \n",
      "\n",
      "   contrast_7  native_language  \n",
      "0   17.021751            hausa  \n",
      "1   13.800085            hausa  \n",
      "2   14.903410            hausa  \n",
      "3   14.936278            hausa  \n",
      "4   13.937395            hausa  \n",
      "\n",
      "[5 rows x 24 columns]\n"
     ]
    }
   ],
   "source": [
    "file_path = \"accent_features.csv\"\n",
    "\n",
    "if os.path.isfile(file_path):\n",
    "    print(\"File already exists.\")\n",
    "    df = pd.read_csv(\"accent_features.csv\")\n",
    "else:\n",
    "    df = extract_features(data_dir='processed_data')\n",
    "    df.to_csv(\"accent_features.csv\", index=False)\n",
    "print(df.head())"
   ]
  },
  {
   "cell_type": "code",
   "execution_count": 9,
   "id": "851f73b3",
   "metadata": {},
   "outputs": [
    {
     "name": "stdout",
     "output_type": "stream",
     "text": [
      "<class 'pandas.core.frame.DataFrame'>\n",
      "RangeIndex: 30 entries, 0 to 29\n",
      "Data columns (total 24 columns):\n",
      " #   Column           Non-Null Count  Dtype  \n",
      "---  ------           --------------  -----  \n",
      " 0   mfcc_1           30 non-null     float64\n",
      " 1   mfcc_2           30 non-null     float64\n",
      " 2   mfcc_3           30 non-null     float64\n",
      " 3   mfcc_4           30 non-null     float64\n",
      " 4   mfcc_5           30 non-null     float64\n",
      " 5   mfcc_6           30 non-null     float64\n",
      " 6   mfcc_7           30 non-null     float64\n",
      " 7   mfcc_8           30 non-null     float64\n",
      " 8   mfcc_9           30 non-null     float64\n",
      " 9   mfcc_10          30 non-null     float64\n",
      " 10  mfcc_11          30 non-null     float64\n",
      " 11  mfcc_12          30 non-null     float64\n",
      " 12  mfcc_13          30 non-null     float64\n",
      " 13  pitch_mean       30 non-null     float64\n",
      " 14  pitch_std        30 non-null     float64\n",
      " 15  zcr              30 non-null     float64\n",
      " 16  contrast_1       30 non-null     float64\n",
      " 17  contrast_2       30 non-null     float64\n",
      " 18  contrast_3       30 non-null     float64\n",
      " 19  contrast_4       30 non-null     float64\n",
      " 20  contrast_5       30 non-null     float64\n",
      " 21  contrast_6       30 non-null     float64\n",
      " 22  contrast_7       30 non-null     float64\n",
      " 23  native_language  30 non-null     object \n",
      "dtypes: float64(23), object(1)\n",
      "memory usage: 5.8+ KB\n"
     ]
    }
   ],
   "source": [
    "df.info()"
   ]
  },
  {
   "cell_type": "code",
   "execution_count": 10,
   "id": "97162ddd",
   "metadata": {},
   "outputs": [],
   "source": [
    "# Resample each class individually to get 40 samples per class\n",
    "dfs = []\n",
    "for label in df['native_language'].unique():\n",
    "    df_label = df[df['native_language'] == label]\n",
    "    df_boot = resample(df_label, replace=True, n_samples=40, random_state=42)\n",
    "    dfs.append(df_boot)\n",
    "\n",
    "# Combine the resampled dataframes\n",
    "df_augmented = pd.concat(dfs).reset_index(drop=True)\n",
    "\n",
    "# Separate features and target\n",
    "features = df_augmented.drop('native_language', axis=1).values\n",
    "target = df_augmented['native_language'].values\n"
   ]
  },
  {
   "cell_type": "code",
   "execution_count": 11,
   "id": "7bb210ea",
   "metadata": {},
   "outputs": [],
   "source": [
    "df_augmented.to_csv('accent_features_bootstrapped.csv', index=False)"
   ]
  },
  {
   "cell_type": "code",
   "execution_count": 12,
   "id": "74cf4cfc",
   "metadata": {},
   "outputs": [],
   "source": [
    "df = pd.read_csv('accent_features_bootstrapped.csv')"
   ]
  },
  {
   "cell_type": "code",
   "execution_count": 13,
   "id": "5277dcf9",
   "metadata": {},
   "outputs": [
    {
     "name": "stdout",
     "output_type": "stream",
     "text": [
      "<class 'pandas.core.frame.DataFrame'>\n",
      "RangeIndex: 120 entries, 0 to 119\n",
      "Data columns (total 24 columns):\n",
      " #   Column           Non-Null Count  Dtype  \n",
      "---  ------           --------------  -----  \n",
      " 0   mfcc_1           120 non-null    float64\n",
      " 1   mfcc_2           120 non-null    float64\n",
      " 2   mfcc_3           120 non-null    float64\n",
      " 3   mfcc_4           120 non-null    float64\n",
      " 4   mfcc_5           120 non-null    float64\n",
      " 5   mfcc_6           120 non-null    float64\n",
      " 6   mfcc_7           120 non-null    float64\n",
      " 7   mfcc_8           120 non-null    float64\n",
      " 8   mfcc_9           120 non-null    float64\n",
      " 9   mfcc_10          120 non-null    float64\n",
      " 10  mfcc_11          120 non-null    float64\n",
      " 11  mfcc_12          120 non-null    float64\n",
      " 12  mfcc_13          120 non-null    float64\n",
      " 13  pitch_mean       120 non-null    float64\n",
      " 14  pitch_std        120 non-null    float64\n",
      " 15  zcr              120 non-null    float64\n",
      " 16  contrast_1       120 non-null    float64\n",
      " 17  contrast_2       120 non-null    float64\n",
      " 18  contrast_3       120 non-null    float64\n",
      " 19  contrast_4       120 non-null    float64\n",
      " 20  contrast_5       120 non-null    float64\n",
      " 21  contrast_6       120 non-null    float64\n",
      " 22  contrast_7       120 non-null    float64\n",
      " 23  native_language  120 non-null    object \n",
      "dtypes: float64(23), object(1)\n",
      "memory usage: 22.6+ KB\n"
     ]
    }
   ],
   "source": [
    "df.info()"
   ]
  },
  {
   "cell_type": "code",
   "execution_count": 14,
   "id": "49c202f9",
   "metadata": {},
   "outputs": [],
   "source": [
    "target = df['native_language']\n",
    "features = df.drop(columns='native_language', axis=1)"
   ]
  },
  {
   "cell_type": "code",
   "execution_count": 15,
   "id": "139b47ed",
   "metadata": {},
   "outputs": [],
   "source": [
    "\n",
    "X_train, X_test, y_train, y_test = train_test_split(features,\n",
    "                                                    target,\n",
    "                                                    test_size=0.2,\n",
    "                                                    stratify= target,\n",
    "                                                    random_state=10)"
   ]
  },
  {
   "cell_type": "code",
   "execution_count": 16,
   "id": "3ddadab4",
   "metadata": {},
   "outputs": [],
   "source": [
    "scaler = StandardScaler()\n",
    "X_train_scaled = scaler.fit_transform(X_train)\n",
    "X_test_scaled = scaler.transform(X_test)"
   ]
  },
  {
   "cell_type": "code",
   "execution_count": 17,
   "id": "2d36a126",
   "metadata": {},
   "outputs": [],
   "source": [
    "k_range = range(1, 21)\n",
    "scores = []\n",
    "\n",
    "for k in k_range:\n",
    "    knn = KNeighborsClassifier(n_neighbors=k)\n",
    "    cv_scores = cross_val_score(knn, X_train_scaled, y_train, cv=5, scoring='accuracy')\n",
    "    scores.append(cv_scores.mean())"
   ]
  },
  {
   "cell_type": "code",
   "execution_count": 18,
   "id": "599632b9",
   "metadata": {},
   "outputs": [
    {
     "data": {
      "image/png": "[encoded data removed]",
      "text/plain": [
       "<Figure size 1000x600 with 1 Axes>"
      ]
     },
     "metadata": {},
     "output_type": "display_data"
    }
   ],
   "source": [
    "plt.plot(k_range, scores)\n",
    "plt.xlabel('k')\n",
    "plt.ylabel('Cross-validated Accuracy')\n",
    "plt.title('Accuracy vs. k')\n",
    "plt.show()"
   ]
  },
  {
   "cell_type": "code",
   "execution_count": 19,
   "id": "6e72c979",
   "metadata": {},
   "outputs": [
    {
     "name": "stdout",
     "output_type": "stream",
     "text": [
      "Best k: 1\n"
     ]
    }
   ],
   "source": [
    "best_k = k_range[scores.index(max(scores))]\n",
    "print(\"Best k:\", best_k)"
   ]
  },
  {
   "cell_type": "code",
   "execution_count": 20,
   "id": "efd339af",
   "metadata": {},
   "outputs": [
    {
     "name": "stdout",
     "output_type": "stream",
     "text": [
      "Classification Report:\n",
      "              precision    recall  f1-score   support\n",
      "\n",
      "       hausa       1.00      1.00      1.00         8\n",
      "        igbo       1.00      1.00      1.00         8\n",
      "      yoruba       1.00      1.00      1.00         8\n",
      "\n",
      "    accuracy                           1.00        24\n",
      "   macro avg       1.00      1.00      1.00        24\n",
      "weighted avg       1.00      1.00      1.00        24\n",
      "\n"
     ]
    }
   ],
   "source": [
    "model = KNeighborsClassifier(n_neighbors=best_k)\n",
    "model.fit(X_train_scaled, y_train)\n",
    "\n",
    "y_pred = model.predict(X_test_scaled)\n",
    "\n",
    "print(\"Classification Report:\")\n",
    "print(classification_report(y_test, y_pred))"
   ]
  },
  {
   "cell_type": "code",
   "execution_count": 21,
   "id": "a17a03df",
   "metadata": {},
   "outputs": [
    {
     "data": {
      "image/png": "[encoded data removed]",
      "text/plain": [
       "<Figure size 1000x600 with 2 Axes>"
      ]
     },
     "metadata": {},
     "output_type": "display_data"
    }
   ],
   "source": [
    "cm = confusion_matrix(y_test, y_pred)\n",
    "\n",
    "sns.heatmap(cm, annot=True, fmt='d', cmap='Blues', xticklabels=model.classes_,\n",
    "            yticklabels=model.classes_)\n",
    "plt.xlabel('Predicted')\n",
    "plt.ylabel('True')\n",
    "plt.title(\"Confusion Matrix\")\n",
    "plt.show()"
   ]
  },
  {
   "cell_type": "code",
   "execution_count": 22,
   "id": "ed2d0303",
   "metadata": {},
   "outputs": [
    {
     "data": {
      "text/plain": [
       "['scaler.pkl']"
      ]
     },
     "execution_count": 22,
     "metadata": {},
     "output_type": "execute_result"
    }
   ],
   "source": [
    "joblib.dump(model, 'knn_accent_model.pkl')\n",
    "joblib.dump(scaler, 'scaler.pkl')"
   ]
  }
 ],
 "metadata": {
  "kernelspec": {
   "display_name": "Python 3",
   "language": "python",
   "name": "python3"
  },
  "language_info": {
   "codemirror_mode": {
    "name": "ipython",
    "version": 3
   },
   "file_extension": ".py",
   "mimetype": "text/x-python",
   "name": "python",
   "nbconvert_exporter": "python",
   "pygments_lexer": "ipython3",
   "version": "3.10.2"
  }
 },
 "nbformat": 4,
 "nbformat_minor": 5
}
